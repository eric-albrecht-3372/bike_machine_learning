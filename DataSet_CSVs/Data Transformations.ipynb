{
 "cells": [
  {
   "cell_type": "markdown",
   "id": "76b73090",
   "metadata": {},
   "source": [
    "# DataSet Transformation File\n",
    "This file is used to transform the many bike sharing datasets, and put them into one flat file for consumption."
   ]
  },
  {
   "cell_type": "code",
   "execution_count": 1,
   "id": "320d066c",
   "metadata": {},
   "outputs": [],
   "source": [
    "# import the packages needed for this\n",
    "import os\n",
    "import glob\n",
    "import pandas as pd\n",
    "import numpy as np"
   ]
  },
  {
   "cell_type": "code",
   "execution_count": 2,
   "id": "a9c20967",
   "metadata": {},
   "outputs": [
    {
     "data": {
      "text/plain": [
       "'C:\\\\Users\\\\albre\\\\bike_notebook\\\\bike_machine_learning\\\\DataSet_CSVs\\\\BikeDatasets'"
      ]
     },
     "execution_count": 2,
     "metadata": {},
     "output_type": "execute_result"
    }
   ],
   "source": [
    "# show off the directories with all the CSV's\n",
    "os.chdir(\"./BikeDatasets\")\n",
    "os.getcwd()"
   ]
  },
  {
   "cell_type": "code",
   "execution_count": 3,
   "id": "74c4568d",
   "metadata": {},
   "outputs": [],
   "source": [
    "# open up a pandas csv for all of the data\n",
    "bike_df = pd.DataFrame()"
   ]
  },
  {
   "cell_type": "code",
   "execution_count": 4,
   "id": "239ee5c1",
   "metadata": {},
   "outputs": [
    {
     "name": "stdout",
     "output_type": "stream",
     "text": [
      "C:\\Users\\albre\\bike_notebook\\bike_machine_learning\\DataSet_CSVs\\BikeDatasets\n",
      "C:\\Users\\albre\\bike_notebook\\bike_machine_learning\\DataSet_CSVs\\BikeDatasets\n",
      "C:\\Users\\albre\\bike_notebook\\bike_machine_learning\\DataSet_CSVs\\BikeDatasets\n",
      "C:\\Users\\albre\\bike_notebook\\bike_machine_learning\\DataSet_CSVs\\BikeDatasets\n",
      "C:\\Users\\albre\\bike_notebook\\bike_machine_learning\\DataSet_CSVs\\BikeDatasets\n",
      "C:\\Users\\albre\\bike_notebook\\bike_machine_learning\\DataSet_CSVs\\BikeDatasets\n",
      "C:\\Users\\albre\\bike_notebook\\bike_machine_learning\\DataSet_CSVs\\BikeDatasets\n",
      "C:\\Users\\albre\\bike_notebook\\bike_machine_learning\\DataSet_CSVs\\BikeDatasets\n",
      "C:\\Users\\albre\\bike_notebook\\bike_machine_learning\\DataSet_CSVs\\BikeDatasets\n",
      "C:\\Users\\albre\\bike_notebook\\bike_machine_learning\\DataSet_CSVs\\BikeDatasets\n"
     ]
    },
    {
     "name": "stderr",
     "output_type": "stream",
     "text": [
      "C:\\Users\\albre\\anaconda3\\lib\\site-packages\\IPython\\core\\interactiveshell.py:3444: DtypeWarning: Columns (5,7) have mixed types.Specify dtype option on import or set low_memory=False.\n",
      "  exec(code_obj, self.user_global_ns, self.user_ns)\n"
     ]
    },
    {
     "name": "stdout",
     "output_type": "stream",
     "text": [
      "C:\\Users\\albre\\bike_notebook\\bike_machine_learning\\DataSet_CSVs\\BikeDatasets\n",
      "C:\\Users\\albre\\bike_notebook\\bike_machine_learning\\DataSet_CSVs\\BikeDatasets\n",
      "C:\\Users\\albre\\bike_notebook\\bike_machine_learning\\DataSet_CSVs\\BikeDatasets\n",
      "C:\\Users\\albre\\bike_notebook\\bike_machine_learning\\DataSet_CSVs\\BikeDatasets\n",
      "C:\\Users\\albre\\bike_notebook\\bike_machine_learning\\DataSet_CSVs\\BikeDatasets\n",
      "C:\\Users\\albre\\bike_notebook\\bike_machine_learning\\DataSet_CSVs\\BikeDatasets\n",
      "C:\\Users\\albre\\bike_notebook\\bike_machine_learning\\DataSet_CSVs\\BikeDatasets\n",
      "C:\\Users\\albre\\bike_notebook\\bike_machine_learning\\DataSet_CSVs\\BikeDatasets\n",
      "C:\\Users\\albre\\bike_notebook\\bike_machine_learning\\DataSet_CSVs\\BikeDatasets\n",
      "C:\\Users\\albre\\bike_notebook\\bike_machine_learning\\DataSet_CSVs\\BikeDatasets\n",
      "C:\\Users\\albre\\bike_notebook\\bike_machine_learning\\DataSet_CSVs\\BikeDatasets\n"
     ]
    }
   ],
   "source": [
    "# run through the directories\n",
    "start_dir = os.getcwd()\n",
    "for ldir in os.listdir():\n",
    "    print(start_dir)\n",
    "    os.chdir(os.path.join(start_dir, ldir))\n",
    "    for csv_file in glob.glob(\"*.csv\"):\n",
    "        bike_df = pd.concat([bike_df, pd.read_csv(csv_file)], axis=0)"
   ]
  },
  {
   "cell_type": "code",
   "execution_count": 5,
   "id": "5551b9b8",
   "metadata": {},
   "outputs": [],
   "source": [
    "# Change directories back up\n",
    "os.chdir(\"..\")"
   ]
  },
  {
   "cell_type": "code",
   "execution_count": 6,
   "id": "5c058505",
   "metadata": {},
   "outputs": [],
   "source": [
    "# Finalize the set out to a CSV file\n",
    "bike_df.to_csv(\"final_bike_dataset.csv\")"
   ]
  }
 ],
 "metadata": {
  "kernelspec": {
   "display_name": "Python 3 (ipykernel)",
   "language": "python",
   "name": "python3"
  },
  "language_info": {
   "codemirror_mode": {
    "name": "ipython",
    "version": 3
   },
   "file_extension": ".py",
   "mimetype": "text/x-python",
   "name": "python",
   "nbconvert_exporter": "python",
   "pygments_lexer": "ipython3",
   "version": "3.9.7"
  }
 },
 "nbformat": 4,
 "nbformat_minor": 5
}
