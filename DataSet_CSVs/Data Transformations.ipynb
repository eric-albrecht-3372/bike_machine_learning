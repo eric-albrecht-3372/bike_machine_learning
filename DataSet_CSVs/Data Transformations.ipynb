{
 "cells": [
  {
   "cell_type": "markdown",
   "id": "76b73090",
   "metadata": {},
   "source": [
    "# DataSet Transformation File\n",
    "This file is used to transform the many bike sharing datasets, and put them into one flat file for consumption."
   ]
  },
  {
   "cell_type": "code",
   "execution_count": 67,
   "id": "320d066c",
   "metadata": {},
   "outputs": [],
   "source": [
    "# import the packages needed for this\n",
    "import os\n",
    "import glob\n",
    "import pandas as pd\n",
    "import numpy as np"
   ]
  },
  {
   "cell_type": "code",
   "execution_count": 68,
   "id": "a9c20967",
   "metadata": {},
   "outputs": [
    {
     "data": {
      "text/plain": [
       "'C:\\\\Users\\\\albre\\\\bike_notebook\\\\bike_machine_learning\\\\DataSet_CSVs\\\\BikeDatasets'"
      ]
     },
     "execution_count": 68,
     "metadata": {},
     "output_type": "execute_result"
    }
   ],
   "source": [
    "# show off the directories with all the CSV's\n",
    "if \"BikeDatasets\" not in os.getcwd():\n",
    "    os.chdir(\"./BikeDatasets\")\n",
    "os.getcwd()"
   ]
  },
  {
   "cell_type": "code",
   "execution_count": 69,
   "id": "74c4568d",
   "metadata": {},
   "outputs": [],
   "source": [
    "# open up a pandas csv for all of the data\n",
    "bike_df = pd.DataFrame()"
   ]
  },
  {
   "cell_type": "code",
   "execution_count": 70,
   "id": "239ee5c1",
   "metadata": {},
   "outputs": [
    {
     "name": "stdout",
     "output_type": "stream",
     "text": [
      "C:\\Users\\albre\\bike_notebook\\bike_machine_learning\\DataSet_CSVs\\BikeDatasets\n",
      "C:\\Users\\albre\\bike_notebook\\bike_machine_learning\\DataSet_CSVs\\BikeDatasets\n",
      "C:\\Users\\albre\\bike_notebook\\bike_machine_learning\\DataSet_CSVs\\BikeDatasets\n",
      "C:\\Users\\albre\\bike_notebook\\bike_machine_learning\\DataSet_CSVs\\BikeDatasets\n"
     ]
    }
   ],
   "source": [
    "# run through the directories\n",
    "start_dir = os.getcwd()\n",
    "count = 0\n",
    "for ldir in os.listdir():\n",
    "    if count >= 4:\n",
    "        break\n",
    "    print(start_dir)\n",
    "    os.chdir(os.path.join(start_dir, ldir))\n",
    "    for csv_file in glob.glob(\"*.csv\"):\n",
    "        bike_df = pd.concat([bike_df, pd.read_csv(csv_file)], axis=0)\n",
    "    count += 1"
   ]
  },
  {
   "cell_type": "code",
   "execution_count": 71,
   "id": "5551b9b8",
   "metadata": {},
   "outputs": [],
   "source": [
    "# Change directories back up\n",
    "os.chdir(\"..\")"
   ]
  },
  {
   "cell_type": "code",
   "execution_count": 72,
   "id": "5c058505",
   "metadata": {},
   "outputs": [],
   "source": [
    "# Finalize the set out to a CSV file\n",
    "bike_df.to_csv(\"final_bike_dataset.csv\")"
   ]
  },
  {
   "cell_type": "code",
   "execution_count": null,
   "id": "b24b5398",
   "metadata": {},
   "outputs": [],
   "source": []
  },
  {
   "cell_type": "code",
   "execution_count": null,
   "id": "68fe47e5",
   "metadata": {},
   "outputs": [],
   "source": []
  }
 ],
 "metadata": {
  "kernelspec": {
   "display_name": "Python 3 (ipykernel)",
   "language": "python",
   "name": "python3"
  },
  "language_info": {
   "codemirror_mode": {
    "name": "ipython",
    "version": 3
   },
   "file_extension": ".py",
   "mimetype": "text/x-python",
   "name": "python",
   "nbconvert_exporter": "python",
   "pygments_lexer": "ipython3",
   "version": "3.9.7"
  }
 },
 "nbformat": 4,
 "nbformat_minor": 5
}
